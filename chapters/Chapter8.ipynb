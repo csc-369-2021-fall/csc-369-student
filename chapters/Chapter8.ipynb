{
 "cells": [
  {
   "cell_type": "markdown",
   "metadata": {
    "hideCode": false,
    "hidePrompt": false,
    "slideshow": {
     "slide_type": "slide"
    }
   },
   "source": [
    "# Chapter 7 - Can I have some of my favorite queries and a distributed database?\n",
    "\n",
    "## MongoDB\n",
    "\n",
    "Paul E. Anderson"
   ]
  },
  {
   "cell_type": "markdown",
   "metadata": {
    "slideshow": {
     "slide_type": "subslide"
    }
   },
   "source": [
    "## Ice Breaker\n",
    "\n",
    "Favorite mac and cheese recipe or spin off?"
   ]
  },
  {
   "cell_type": "markdown",
   "metadata": {
    "slideshow": {
     "slide_type": "subslide"
    }
   },
   "source": [
    "While this text can be viewed as PDF, it is most useful to have a Jupyter environment. I have an environment ready for each of you, but you can get your own local environment going in several ways. One popular way is with Anaconda (<a href=\"https://www.anaconda.com/\">https://www.anaconda.com/</a>. Because of the limited time, you can use my server."
   ]
  },
  {
   "cell_type": "markdown",
   "metadata": {
    "slideshow": {
     "slide_type": "subslide"
    }
   },
   "source": [
    "### Update on lab grades"
   ]
  },
  {
   "cell_type": "markdown",
   "metadata": {
    "slideshow": {
     "slide_type": "subslide"
    }
   },
   "source": [
    "<img src='../labs/grade_summary.png' width=600>"
   ]
  },
  {
   "cell_type": "markdown",
   "metadata": {
    "slideshow": {
     "slide_type": "slide"
    }
   },
   "source": [
    "## Hu(mongo)us\n",
    "\n",
    "Used by companies such as Foursquare, bit.ly, and CERN for collecting Large Hadron Collider data.\n",
    "\n",
    "Document database (JSON) ... though technically data is stored as BSON (binary form of JSON).\n",
    "\n",
    "Allows data to persist in a nest state\n",
    "\n",
    "Can query nested data in an ad hoc fashion"
   ]
  },
  {
   "cell_type": "markdown",
   "metadata": {
    "slideshow": {
     "slide_type": "subslide"
    }
   },
   "source": [
    "## What have we lost from relational databases?\n",
    "We can no longer perform server side joins. "
   ]
  },
  {
   "cell_type": "markdown",
   "metadata": {
    "slideshow": {
     "slide_type": "subslide"
    }
   },
   "source": [
    "## What's in an ID field?\n",
    "Each document in a collection gets an automatic ObjectID:\n",
    "* 12 bytes\n",
    "* composed of a timestamp + client machine ID + client process ID + a 3-byte incremented counter\n",
    "\n",
    "Why is this interesting? \n",
    "* Autonumbering scheme allows each process on every machine to handle its own ID generation without colliding with other instances."
   ]
  },
  {
   "cell_type": "markdown",
   "metadata": {
    "slideshow": {
     "slide_type": "slide"
    }
   },
   "source": [
    "## Let's have some fun with Mongo\n",
    "\n",
    "We will use PyMongo, but you can use the native Javascript interface at the command line. We need to connect to our database (``csc-369``), and a collection of daily COVID19 cases as described in the lab."
   ]
  },
  {
   "cell_type": "code",
   "execution_count": 2,
   "metadata": {
    "slideshow": {
     "slide_type": "subslide"
    }
   },
   "outputs": [
    {
     "data": {
      "text/plain": [
       "Collection(Database(MongoClient(host=['localhost:27017'], document_class=dict, tz_aware=False, connect=True), 'csc-369'), 'daily')"
      ]
     },
     "execution_count": 2,
     "metadata": {},
     "output_type": "execute_result"
    }
   ],
   "source": [
    "from pymongo import MongoClient\n",
    "client = MongoClient()\n",
    "\n",
    "db = client[\"csc-369\"]\n",
    "col = db[\"daily\"]\n",
    "\n",
    "col"
   ]
  },
  {
   "cell_type": "markdown",
   "metadata": {
    "slideshow": {
     "slide_type": "subslide"
    }
   },
   "source": [
    "### Finding one document"
   ]
  },
  {
   "cell_type": "code",
   "execution_count": 4,
   "metadata": {
    "slideshow": {
     "slide_type": "fragment"
    }
   },
   "outputs": [
    {
     "data": {
      "text/plain": [
       "{'_id': ObjectId('60392e3656264fee961ca816'),\n",
       " 'date': 20200405,\n",
       " 'state': 'AK',\n",
       " 'positive': 185,\n",
       " 'negative': 6099,\n",
       " 'pending': None,\n",
       " 'hospitalizedCurrently': None,\n",
       " 'hospitalizedCumulative': 20,\n",
       " 'inIcuCurrently': None,\n",
       " 'inIcuCumulative': None,\n",
       " 'onVentilatorCurrently': None,\n",
       " 'onVentilatorCumulative': None,\n",
       " 'recovered': None,\n",
       " 'hash': '661d7b0f627847a2dceb5d70d4e9260965031cc2',\n",
       " 'dateChecked': '2020-04-05T20:00:00Z',\n",
       " 'death': 6,\n",
       " 'hospitalized': 20,\n",
       " 'total': 6284,\n",
       " 'totalTestResults': 6284,\n",
       " 'posNeg': 6284,\n",
       " 'fips': '02',\n",
       " 'deathIncrease': 1,\n",
       " 'hospitalizedIncrease': 4,\n",
       " 'negativeIncrease': 230,\n",
       " 'positiveIncrease': 14,\n",
       " 'totalTestResultsIncrease': 244}"
      ]
     },
     "execution_count": 4,
     "metadata": {},
     "output_type": "execute_result"
    }
   ],
   "source": [
    "col.find_one()"
   ]
  },
  {
   "cell_type": "markdown",
   "metadata": {
    "slideshow": {
     "slide_type": "subslide"
    }
   },
   "source": [
    "### Finding that document again"
   ]
  },
  {
   "cell_type": "code",
   "execution_count": 6,
   "metadata": {
    "slideshow": {
     "slide_type": "fragment"
    }
   },
   "outputs": [
    {
     "data": {
      "text/plain": [
       "[]"
      ]
     },
     "execution_count": 6,
     "metadata": {},
     "output_type": "execute_result"
    }
   ],
   "source": [
    "list(col.find({\"_id\": '60392e3656264fee961ca816'}))"
   ]
  },
  {
   "cell_type": "markdown",
   "metadata": {
    "slideshow": {
     "slide_type": "subslide"
    }
   },
   "source": [
    "### What happened?"
   ]
  },
  {
   "cell_type": "code",
   "execution_count": 10,
   "metadata": {
    "slideshow": {
     "slide_type": "fragment"
    }
   },
   "outputs": [
    {
     "data": {
      "text/plain": [
       "[{'_id': ObjectId('60392e3656264fee961ca816'),\n",
       "  'date': 20200405,\n",
       "  'state': 'AK',\n",
       "  'positive': 185,\n",
       "  'negative': 6099,\n",
       "  'pending': None,\n",
       "  'hospitalizedCurrently': None,\n",
       "  'hospitalizedCumulative': 20,\n",
       "  'inIcuCurrently': None,\n",
       "  'inIcuCumulative': None,\n",
       "  'onVentilatorCurrently': None,\n",
       "  'onVentilatorCumulative': None,\n",
       "  'recovered': None,\n",
       "  'hash': '661d7b0f627847a2dceb5d70d4e9260965031cc2',\n",
       "  'dateChecked': '2020-04-05T20:00:00Z',\n",
       "  'death': 6,\n",
       "  'hospitalized': 20,\n",
       "  'total': 6284,\n",
       "  'totalTestResults': 6284,\n",
       "  'posNeg': 6284,\n",
       "  'fips': '02',\n",
       "  'deathIncrease': 1,\n",
       "  'hospitalizedIncrease': 4,\n",
       "  'negativeIncrease': 230,\n",
       "  'positiveIncrease': 14,\n",
       "  'totalTestResultsIncrease': 244}]"
      ]
     },
     "execution_count": 10,
     "metadata": {},
     "output_type": "execute_result"
    }
   ],
   "source": [
    "from bson.objectid import ObjectId\n",
    "list(col.find({\"_id\": ObjectId('60392e3656264fee961ca816')}))"
   ]
  },
  {
   "cell_type": "markdown",
   "metadata": {
    "slideshow": {
     "slide_type": "subslide"
    }
   },
   "source": [
    "### Ad hoc queries can be simple (above) or complex"
   ]
  },
  {
   "cell_type": "code",
   "execution_count": 31,
   "metadata": {
    "slideshow": {
     "slide_type": "fragment"
    }
   },
   "outputs": [
    {
     "data": {
      "text/plain": [
       "26"
      ]
     },
     "execution_count": 31,
     "metadata": {},
     "output_type": "execute_result"
    }
   ],
   "source": [
    "col.count_documents(\n",
    "    {'state': {\"$regex\": \"^A\"},\n",
    "     'totalTestResults': {\"$gt\": 6000}\n",
    "    }\n",
    ")"
   ]
  },
  {
   "cell_type": "markdown",
   "metadata": {
    "slideshow": {
     "slide_type": "subslide"
    }
   },
   "source": [
    "### What about a little OR?"
   ]
  },
  {
   "cell_type": "code",
   "execution_count": 32,
   "metadata": {
    "slideshow": {
     "slide_type": "fragment"
    }
   },
   "outputs": [
    {
     "data": {
      "text/plain": [
       "575"
      ]
     },
     "execution_count": 32,
     "metadata": {},
     "output_type": "execute_result"
    }
   ],
   "source": [
    "col.count_documents(\n",
    "    {\n",
    "        \"$or\": [\n",
    "            {'state': {\"$regex\": \"^A\"}},\n",
    "            {'totalTestResults': {\"$gt\": 6000}}\n",
    "        ]\n",
    "    }\n",
    ")"
   ]
  },
  {
   "cell_type": "markdown",
   "metadata": {
    "slideshow": {
     "slide_type": "subslide"
    }
   },
   "source": [
    "| Command      | Description |\n",
    "| ------------ | ----------- |\n",
    "| \\$regex       | Match by any PCRE-compliant regular expression string |\n",
    "| \\$ne          | Not equal to        |\n",
    "| \\$lt          | Less than |\n",
    "| \\$lte         | Less than or equal to |\n",
    "| \\$gt          | Greater than |\n",
    "| \\$gte         | Greater than or equal to |\n",
    "| \\$exists      | Check for the existence of a field |\n",
    "| \\$all         | Match all elements in an array |\n",
    "| \\$in          | Match any elements in an array |\n",
    "| \\$nin         | Does not match any elements in an array |\n",
    "| \\$elemMatch    | match all fields in an array of nested documents |\n",
    "| \\$or | or |\n",
    "| \\$nor         | Not or |\n",
    "| \\$size        | Match array of given size |\n",
    "| \\$mod         | Modulus |\n",
    "| \\$type        | Match if field is a given datatype |\n",
    "| \\$not         | Negate the given operator check |"
   ]
  },
  {
   "cell_type": "markdown",
   "metadata": {
    "slideshow": {
     "slide_type": "subslide"
    }
   },
   "source": [
    "### What if we wanted to update a mispelling?"
   ]
  },
  {
   "cell_type": "code",
   "execution_count": 39,
   "metadata": {
    "slideshow": {
     "slide_type": "fragment"
    }
   },
   "outputs": [
    {
     "data": {
      "text/plain": [
       "<pymongo.results.UpdateResult at 0x7f10f42faa08>"
      ]
     },
     "execution_count": 39,
     "metadata": {},
     "output_type": "execute_result"
    }
   ],
   "source": [
    "col.update_one(\n",
    "    {\"_id\": ObjectId('60392e3656264fee961ca816')},\n",
    "    {\"$set\": {\"state\":\"ARK\"}})"
   ]
  },
  {
   "cell_type": "code",
   "execution_count": 40,
   "metadata": {
    "slideshow": {
     "slide_type": "subslide"
    }
   },
   "outputs": [
    {
     "data": {
      "text/plain": [
       "[{'_id': ObjectId('60392e3656264fee961ca816'), 'state': 'ARK'}]"
      ]
     },
     "execution_count": 40,
     "metadata": {},
     "output_type": "execute_result"
    }
   ],
   "source": [
    "list(col.find({\"_id\": ObjectId('60392e3656264fee961ca816')}))"
   ]
  },
  {
   "cell_type": "code",
   "execution_count": 41,
   "metadata": {
    "slideshow": {
     "slide_type": "subslide"
    }
   },
   "outputs": [
    {
     "data": {
      "text/plain": [
       "<pymongo.results.UpdateResult at 0x7f10f42faf88>"
      ]
     },
     "execution_count": 41,
     "metadata": {},
     "output_type": "execute_result"
    }
   ],
   "source": [
    "col.update_one(\n",
    "    {\"_id\": ObjectId('60392e3656264fee961ca816')},\n",
    "    {\"$set\": {\"state\":\"AK\"}})"
   ]
  },
  {
   "cell_type": "code",
   "execution_count": 42,
   "metadata": {
    "slideshow": {
     "slide_type": "subslide"
    }
   },
   "outputs": [
    {
     "data": {
      "text/plain": [
       "[{'_id': ObjectId('60392e3656264fee961ca816'), 'state': 'AK'}]"
      ]
     },
     "execution_count": 42,
     "metadata": {},
     "output_type": "execute_result"
    }
   ],
   "source": [
    "list(col.find({\"_id\": ObjectId('60392e3656264fee961ca816')}))"
   ]
  },
  {
   "cell_type": "markdown",
   "metadata": {
    "slideshow": {
     "slide_type": "subslide"
    }
   },
   "source": [
    "| Command      | Description |\n",
    "| ------------ | ----------- |\n",
    "| \\$set | Sets the given field with the given value |\n",
    "| \\$unset | Removes the field |\n",
    "| \\$inc | Adds the given field by the given number |\n",
    "| \\$pop | Removes the last (or first) element from an array |\n",
    "| \\$push | Adds the value to an array |\n",
    "| \\$pushAll | Adds all values to an array |\n",
    "| \\$addToSet | Similar to push, but won’t duplicate values |\n",
    "| \\$pull | Removes matching value from an array |\n",
    "| \\$pullAll | Removes all matching values from an array |"
   ]
  },
  {
   "cell_type": "markdown",
   "metadata": {
    "slideshow": {
     "slide_type": "subslide"
    }
   },
   "source": [
    "### Warning\n",
    "\n",
    "Mongo will let you do what you want. Even the following:"
   ]
  },
  {
   "cell_type": "code",
   "execution_count": 43,
   "metadata": {
    "slideshow": {
     "slide_type": "fragment"
    }
   },
   "outputs": [
    {
     "data": {
      "text/plain": [
       "<pymongo.results.UpdateResult at 0x7f10fdb14288>"
      ]
     },
     "execution_count": 43,
     "metadata": {},
     "output_type": "execute_result"
    }
   ],
   "source": [
    "col.update_one(\n",
    "    {\"_id\": ObjectId('60392e3656264fee961ca816')},\n",
    "    {\"$set\": {\"state\":123}})"
   ]
  },
  {
   "cell_type": "code",
   "execution_count": 44,
   "metadata": {
    "slideshow": {
     "slide_type": "subslide"
    }
   },
   "outputs": [
    {
     "data": {
      "text/plain": [
       "[{'_id': ObjectId('60392e3656264fee961ca816'), 'state': 123}]"
      ]
     },
     "execution_count": 44,
     "metadata": {},
     "output_type": "execute_result"
    }
   ],
   "source": [
    "list(col.find({\"_id\": ObjectId('60392e3656264fee961ca816')}))"
   ]
  },
  {
   "cell_type": "code",
   "execution_count": 45,
   "metadata": {
    "slideshow": {
     "slide_type": "subslide"
    }
   },
   "outputs": [
    {
     "data": {
      "text/plain": [
       "<pymongo.results.UpdateResult at 0x7f10f42f4088>"
      ]
     },
     "execution_count": 45,
     "metadata": {},
     "output_type": "execute_result"
    }
   ],
   "source": [
    "col.update_one(\n",
    "    {\"_id\": ObjectId('60392e3656264fee961ca816')},\n",
    "    {\"$set\": {\"state\":\"AK\"}})"
   ]
  },
  {
   "cell_type": "markdown",
   "metadata": {
    "slideshow": {
     "slide_type": "slide"
    }
   },
   "source": [
    "## Plug for more database classes\n",
    "By default PyMongo creates an index to help you search for specific documents by ID, but it does not do so on other fields. You can create an\n",
    "index for faster queries using ``ensureIndex``. This can change your queries from minutes to seconds or even milliseconds."
   ]
  },
  {
   "cell_type": "markdown",
   "metadata": {
    "slideshow": {
     "slide_type": "slide"
    }
   },
   "source": [
    "## Aggregation in MongoDB\n",
    "\n",
    "The aggregate functionality in Mongo is extensive (https://docs.mongodb.com/manual/reference/operator/aggregation-pipeline/). We will cover some of the most common functionality such as matching and grouping."
   ]
  },
  {
   "cell_type": "code",
   "execution_count": 61,
   "metadata": {
    "slideshow": {
     "slide_type": "fragment"
    }
   },
   "outputs": [
    {
     "name": "stdout",
     "output_type": "stream",
     "text": [
      "[{'_id': {'state': 'ME'}, 'count': 6},\n",
      " {'_id': {'state': 'AR'}, 'count': 6},\n",
      " {'_id': {'state': 'OH'}, 'count': 12},\n",
      " {'_id': {'state': 'IA'}, 'count': 7},\n",
      " {'_id': {'state': 'MS'}, 'count': 3},\n",
      " {'_id': {'state': 'LA'}, 'count': 13},\n",
      " {'_id': {'state': 'KY'}, 'count': 7},\n",
      " {'_id': {'state': 'MA'}, 'count': 15},\n",
      " {'_id': {'state': 'KS'}, 'count': 4},\n",
      " {'_id': {'state': 'MD'}, 'count': 9},\n",
      " {'_id': {'state': 'CO'}, 'count': 13},\n",
      " {'_id': {'state': 'NH'}, 'count': 5},\n",
      " {'_id': {'state': 'IL'}, 'count': 16},\n",
      " {'_id': {'state': 'GA'}, 'count': 12},\n",
      " {'_id': {'state': 'AK'}, 'count': 2},\n",
      " {'_id': {'state': 'IN'}, 'count': 10},\n",
      " {'_id': {'state': 'ID'}, 'count': 5},\n",
      " {'_id': {'state': 'AZ'}, 'count': 10},\n",
      " {'_id': {'state': 'AL'}, 'count': 7},\n",
      " {'_id': {'state': 'NV'}, 'count': 10},\n",
      " {'_id': {'state': 'PA'}, 'count': 14},\n",
      " {'_id': {'state': 'WA'}, 'count': 23},\n",
      " {'_id': {'state': 'CA'}, 'count': 21},\n",
      " {'_id': {'state': 'HI'}, 'count': 8},\n",
      " {'_id': {'state': 'UT'}, 'count': 12},\n",
      " {'_id': {'state': 'TN'}, 'count': 13},\n",
      " {'_id': {'state': 'CT'}, 'count': 11},\n",
      " {'_id': {'state': 'VA'}, 'count': 11},\n",
      " {'_id': {'state': 'FL'}, 'count': 16},\n",
      " {'_id': {'state': 'MO'}, 'count': 9},\n",
      " {'_id': {'state': 'WI'}, 'count': 15},\n",
      " {'_id': {'state': 'MT'}, 'count': 2},\n",
      " {'_id': {'state': 'MI'}, 'count': 11},\n",
      " {'_id': {'state': 'NJ'}, 'count': 13},\n",
      " {'_id': {'state': 'DC'}, 'count': 2},\n",
      " {'_id': {'state': 'NC'}, 'count': 15},\n",
      " {'_id': {'state': 'ND'}, 'count': 2},\n",
      " {'_id': {'state': 'NM'}, 'count': 12},\n",
      " {'_id': {'state': 'MN'}, 'count': 12},\n",
      " {'_id': {'state': 'NY'}, 'count': 20},\n",
      " {'_id': {'state': 'OR'}, 'count': 11},\n",
      " {'_id': {'state': 'SC'}, 'count': 5},\n",
      " {'_id': {'state': 'TX'}, 'count': 16},\n",
      " {'_id': {'state': 'DE'}, 'count': 2},\n",
      " {'_id': {'state': 'VT'}, 'count': 1},\n",
      " {'_id': {'state': 'RI'}, 'count': 2},\n",
      " {'_id': {'state': 'WV'}, 'count': 3}]\n"
     ]
    }
   ],
   "source": [
    "result = col.aggregate([\n",
    "    # Match the documents possible\n",
    "    { \"$match\": { \"totalTestResults\": { \"$gt\": 6000 } } },\n",
    "\n",
    "    # Group the documents and \"count\" via $sum on the values\n",
    "    { \"$group\": {\n",
    "        \"_id\": { # key\n",
    "            \"state\": \"$state\"\n",
    "        },\n",
    "        \"count\": { \"$sum\": 1 } # action\n",
    "    }}\n",
    "])\n",
    "import pprint\n",
    "pprint.pprint(list((result)))"
   ]
  },
  {
   "cell_type": "markdown",
   "metadata": {
    "slideshow": {
     "slide_type": "slide"
    }
   },
   "source": [
    "## MapReduce MongoDB"
   ]
  },
  {
   "cell_type": "markdown",
   "metadata": {
    "slideshow": {
     "slide_type": "subslide"
    }
   },
   "source": [
    "In order to do this, we will need some Javascript. It's pretty simple if you know languages such as Python, Java, C. We will perform the same aggregation as we did above."
   ]
  },
  {
   "cell_type": "code",
   "execution_count": 66,
   "metadata": {
    "slideshow": {
     "slide_type": "subslide"
    }
   },
   "outputs": [
    {
     "name": "stdout",
     "output_type": "stream",
     "text": [
      "{'_id': 'AK', 'value': 2.0}\n",
      "{'_id': 'AL', 'value': 7.0}\n",
      "{'_id': 'AR', 'value': 6.0}\n",
      "{'_id': 'AZ', 'value': 10.0}\n",
      "{'_id': 'CA', 'value': 21.0}\n",
      "{'_id': 'CO', 'value': 13.0}\n",
      "{'_id': 'CT', 'value': 11.0}\n",
      "{'_id': 'DC', 'value': 2.0}\n",
      "{'_id': 'DE', 'value': 2.0}\n",
      "{'_id': 'FL', 'value': 16.0}\n",
      "{'_id': 'GA', 'value': 12.0}\n",
      "{'_id': 'HI', 'value': 8.0}\n",
      "{'_id': 'IA', 'value': 7.0}\n",
      "{'_id': 'ID', 'value': 5.0}\n",
      "{'_id': 'IL', 'value': 16.0}\n",
      "{'_id': 'IN', 'value': 10.0}\n",
      "{'_id': 'KS', 'value': 4.0}\n",
      "{'_id': 'KY', 'value': 7.0}\n",
      "{'_id': 'LA', 'value': 13.0}\n",
      "{'_id': 'MA', 'value': 15.0}\n",
      "{'_id': 'MD', 'value': 9.0}\n",
      "{'_id': 'ME', 'value': 6.0}\n",
      "{'_id': 'MI', 'value': 11.0}\n",
      "{'_id': 'MN', 'value': 12.0}\n",
      "{'_id': 'MO', 'value': 9.0}\n",
      "{'_id': 'MS', 'value': 3.0}\n",
      "{'_id': 'MT', 'value': 2.0}\n",
      "{'_id': 'NC', 'value': 15.0}\n",
      "{'_id': 'ND', 'value': 2.0}\n",
      "{'_id': 'NH', 'value': 5.0}\n",
      "{'_id': 'NJ', 'value': 13.0}\n",
      "{'_id': 'NM', 'value': 12.0}\n",
      "{'_id': 'NV', 'value': 10.0}\n",
      "{'_id': 'NY', 'value': 20.0}\n",
      "{'_id': 'OH', 'value': 12.0}\n",
      "{'_id': 'OR', 'value': 11.0}\n",
      "{'_id': 'PA', 'value': 14.0}\n",
      "{'_id': 'RI', 'value': 2.0}\n",
      "{'_id': 'SC', 'value': 5.0}\n",
      "{'_id': 'TN', 'value': 13.0}\n",
      "{'_id': 'TX', 'value': 16.0}\n",
      "{'_id': 'UT', 'value': 12.0}\n",
      "{'_id': 'VA', 'value': 11.0}\n",
      "{'_id': 'VT', 'value': 1.0}\n",
      "{'_id': 'WA', 'value': 23.0}\n",
      "{'_id': 'WI', 'value': 15.0}\n",
      "{'_id': 'WV', 'value': 3.0}\n"
     ]
    }
   ],
   "source": [
    "from bson.code import Code\n",
    "map_func = Code(\n",
    "\"\"\"\n",
    "function () {\n",
    "    if (this.totalTestResults > 6000) {\n",
    "        return emit(this.state, 1);\n",
    "    }\n",
    "}\n",
    "\"\"\"\n",
    ")\n",
    "\n",
    "reduce_func = Code(\n",
    "\"\"\"\n",
    "function(key,values) {\n",
    "    var total = 0;\n",
    "    for (var i = 0; i < values.length; i++) {\n",
    "        total += values[i];\n",
    "    }\n",
    "    return total;\n",
    "}\n",
    "\"\"\"\n",
    ")\n",
    "\n",
    "result = col.map_reduce(map_func, reduce_func, \"myresults\")\n",
    "for doc in result.find():\n",
    "    print(doc)"
   ]
  },
  {
   "cell_type": "markdown",
   "metadata": {
    "slideshow": {
     "slide_type": "subslide"
    }
   },
   "source": [
    "## Wrap-up\n",
    "We have introduced advanced functionality of Mongo including aggregation, filtering, counting, and map-reduce."
   ]
  }
 ],
 "metadata": {
  "celltoolbar": "Slideshow",
  "hide_code_all_hidden": false,
  "jupytext": {
   "encoding": "# -*- coding: utf-8 -*-",
   "formats": "ipynb,md,py"
  },
  "kernelspec": {
   "display_name": "Python 3",
   "language": "python",
   "name": "python3"
  },
  "language_info": {
   "codemirror_mode": {
    "name": "ipython",
    "version": 3
   },
   "file_extension": ".py",
   "mimetype": "text/x-python",
   "name": "python",
   "nbconvert_exporter": "python",
   "pygments_lexer": "ipython3",
   "version": "3.7.3"
  }
 },
 "nbformat": 4,
 "nbformat_minor": 4
}
