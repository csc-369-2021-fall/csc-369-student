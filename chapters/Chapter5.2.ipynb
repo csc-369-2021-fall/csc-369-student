{
 "cells": [
  {
   "cell_type": "markdown",
   "metadata": {
    "slideshow": {
     "slide_type": "slide"
    }
   },
   "source": [
    "# Chapter 5.2 - Matrix Multiplication in Spark using RDDs"
   ]
  },
  {
   "cell_type": "code",
   "execution_count": 1,
   "metadata": {
    "slideshow": {
     "slide_type": "skip"
    }
   },
   "outputs": [],
   "source": [
    "%load_ext autoreload\n",
    "%autoreload 2"
   ]
  },
  {
   "cell_type": "code",
   "execution_count": 2,
   "metadata": {
    "slideshow": {
     "slide_type": "skip"
    }
   },
   "outputs": [],
   "source": [
    "from pyspark import SparkConf\n",
    "from pyspark.context import SparkContext\n",
    "\n",
    "sc = SparkContext.getOrCreate(SparkConf().setMaster(\"local[*]\"))"
   ]
  },
  {
   "cell_type": "markdown",
   "metadata": {
    "slideshow": {
     "slide_type": "-"
    }
   },
   "source": [
    "### Matrix Multiplication Reviewed\n",
    "* Critical to a large number of tasks from graphics and cryptography to graph algorithms and machine learning.\n",
    "* Computationally intensive. A naive sequential matrix multiplication algorithm has complexity of O(n^3). \n",
    "* Algorithms with lower computational complexity exist, but they are not always faster in practice.\n",
    "* Good candidate for distributed processing"
   ]
  },
  {
   "cell_type": "markdown",
   "metadata": {},
   "source": [
    "* Every matrix cell is computed using a separate, independent from other cells computation. The computation consumes O(n) input (one matrix row and one matrix column).\n",
    "* Good candidate for being expressed as a MapReduce computation.\n",
    "* For a refresher on matrix muliplication. <a href=\"https://www.youtube.com/watch?v=kuixY2bCc_0&ab_channel=MathMeeting\">Here is one such video.</a>\n",
    "* <a href=\"https://en.wikipedia.org/wiki/Matrix_multiplication#Definition\">Formal definition</a>"
   ]
  },
  {
   "cell_type": "markdown",
   "metadata": {},
   "source": [
    "<img src=\"https://upload.wikimedia.org/wikipedia/commons/thumb/1/18/Matrix_multiplication_qtl1.svg/2560px-Matrix_multiplication_qtl1.svg.png\">"
   ]
  },
  {
   "cell_type": "markdown",
   "metadata": {},
   "source": [
    "### Why Spark for matrix multiplication? \n",
    "If you've ever tried to perform matrix multiplication and you've run out of memory, then you know one of the reasons we might want to use Spark. In general, it is faster to work with a library such as numpy when the matrices are reasonable in size. We would only see the performance benefits of a Spark approach at scale."
   ]
  },
  {
   "cell_type": "markdown",
   "metadata": {},
   "source": [
    "### Creating our input\n",
    "\n",
    "Creating the input for testing purposes is easy. In practice, we would be reading from files or a database. Please review the documentation on <a href=\"https://spark.apache.org/docs/2.1.1/programming-guide.html#parallelized-collections\">parallelized collections</a>."
   ]
  },
  {
   "cell_type": "markdown",
   "metadata": {},
   "source": [
    "Let $A$ be a matrix of size $m \\times n$ and $B$ be a matrix of size $n \\times s$. Then our goal is to create a matrix $R$ of size $m \\times s$. "
   ]
  },
  {
   "cell_type": "markdown",
   "metadata": {},
   "source": [
    "Let's start with a concrete example that is represented in what seems like a reasonable way. In general, we use two dimensional arrays to represent lists. Things like:\n",
    "```python\n",
    "[[1,2,3],[4,5,6]]\n",
    "```\n",
    "We will do that here, but we will write each row as a key,value pair such as:\n",
    "```python\n",
    "[('A[1,:]',[1,2,3]),\n",
    " ('A[2,:]',[4,5,6])]\n",
    "```\n",
    "We'll switch to different formats later for reasons that you will notice while doing this first exercise. If you haven't seen ``A[1,:]`` it means this is the first row and all the columns of the A matrix. Below is how we create the RDDs."
   ]
  },
  {
   "cell_type": "code",
   "execution_count": 3,
   "metadata": {},
   "outputs": [],
   "source": [
    "A = [('A[1,:]',[1, 2, 3]),('A[2,:]',[4, 5,6])]\n",
    "A_RDD = sc.parallelize(A)\n",
    "\n",
    "B = [('B[:,1]',[7,9,11]),('B[:,2]',[8,10,12])]\n",
    "B_RDD = sc.parallelize(B)"
   ]
  },
  {
   "cell_type": "markdown",
   "metadata": {},
   "source": [
    "We can convert these into numpy arrays easily."
   ]
  },
  {
   "cell_type": "code",
   "execution_count": 4,
   "metadata": {},
   "outputs": [
    {
     "data": {
      "text/plain": [
       "array([[1, 2, 3],\n",
       "       [4, 5, 6]])"
      ]
     },
     "execution_count": 4,
     "metadata": {},
     "output_type": "execute_result"
    }
   ],
   "source": [
    "import numpy as np\n",
    "A_mat = np.array(A_RDD.map(lambda v: v[1]).collect())\n",
    "A_mat"
   ]
  },
  {
   "cell_type": "code",
   "execution_count": 5,
   "metadata": {},
   "outputs": [
    {
     "data": {
      "text/plain": [
       "array([[ 7,  9, 11],\n",
       "       [ 8, 10, 12]])"
      ]
     },
     "execution_count": 5,
     "metadata": {},
     "output_type": "execute_result"
    }
   ],
   "source": [
    "B_mat = np.array(B_RDD.map(lambda v: v[1]).collect())\n",
    "B_mat"
   ]
  },
  {
   "cell_type": "markdown",
   "metadata": {},
   "source": [
    "Let's ask numpy to do our multiplication for us. **Error below is on purpose**. The dot product between two vectors:\n",
    "<img src=\"https://wikimedia.org/api/rest_v1/media/math/render/svg/5bd0b488ad92250b4e7c2f8ac92f700f8aefddd5\">\n",
    "So numpy will calculate the dot product of two vectors each time an entry (circle in image below) is needed:\n",
    "<img src=\"https://upload.wikimedia.org/wikipedia/commons/thumb/e/eb/Matrix_multiplication_diagram_2.svg/440px-Matrix_multiplication_diagram_2.svg.png\">"
   ]
  },
  {
   "cell_type": "code",
   "execution_count": 6,
   "metadata": {},
   "outputs": [
    {
     "ename": "ValueError",
     "evalue": "shapes (2,3) and (2,3) not aligned: 3 (dim 1) != 2 (dim 0)",
     "output_type": "error",
     "traceback": [
      "\u001b[0;31m---------------------------------------------------------------------------\u001b[0m",
      "\u001b[0;31mValueError\u001b[0m                                Traceback (most recent call last)",
      "\u001b[0;32m<ipython-input-6-7ef0184e8b50>\u001b[0m in \u001b[0;36m<module>\u001b[0;34m\u001b[0m\n\u001b[0;32m----> 1\u001b[0;31m \u001b[0mnp\u001b[0m\u001b[0;34m.\u001b[0m\u001b[0mdot\u001b[0m\u001b[0;34m(\u001b[0m\u001b[0mA_mat\u001b[0m\u001b[0;34m,\u001b[0m\u001b[0mB_mat\u001b[0m\u001b[0;34m)\u001b[0m\u001b[0;34m\u001b[0m\u001b[0;34m\u001b[0m\u001b[0m\n\u001b[0m",
      "\u001b[0;32m<__array_function__ internals>\u001b[0m in \u001b[0;36mdot\u001b[0;34m(*args, **kwargs)\u001b[0m\n",
      "\u001b[0;31mValueError\u001b[0m: shapes (2,3) and (2,3) not aligned: 3 (dim 1) != 2 (dim 0)"
     ]
    }
   ],
   "source": [
    "np.dot(A_mat,B_mat)"
   ]
  },
  {
   "cell_type": "markdown",
   "metadata": {},
   "source": [
    "We have already transposed B in our example to make our map reduce task easier. The ``.dot`` function assumes we have not done the transpose. So in order for numpy to do the multiplication for us, we need to transpose the second matrix (note the .T)."
   ]
  },
  {
   "cell_type": "code",
   "execution_count": 7,
   "metadata": {},
   "outputs": [
    {
     "data": {
      "text/plain": [
       "array([[ 58,  64],\n",
       "       [139, 154]])"
      ]
     },
     "execution_count": 7,
     "metadata": {},
     "output_type": "execute_result"
    }
   ],
   "source": [
    "np.dot(A_mat,B_mat.T)"
   ]
  },
  {
   "cell_type": "markdown",
   "metadata": {},
   "source": [
    "Let's pick apart how we got the value 64. This is the dot product of row 1 of A and column 2 of B (Hint: when we discuss matrix we start counting at 1). Our goal then is to compute $n \\times s$ values: one for each pair (i, k) of rows from matrix A and columns from matrix B.\n",
    "\n",
    "To do this we'll need to join the two RDDs together. Why is the following empty?"
   ]
  },
  {
   "cell_type": "code",
   "execution_count": 8,
   "metadata": {},
   "outputs": [
    {
     "data": {
      "text/plain": [
       "[]"
      ]
     },
     "execution_count": 8,
     "metadata": {},
     "output_type": "execute_result"
    }
   ],
   "source": [
    "A_RDD.join(B_RDD).collect()"
   ]
  },
  {
   "cell_type": "markdown",
   "metadata": {},
   "source": [
    "It's because none of our keys matched. We need to move to a new key, so the join works as expected. Here is what I did:"
   ]
  },
  {
   "cell_type": "code",
   "execution_count": 9,
   "metadata": {},
   "outputs": [],
   "source": [
    "# These functions are needed because we used a string above (don't worry, later I don't do this).\n",
    "def get_row(s):\n",
    "    return int(s.split(\",\")[0].split(\"[\")[-1])\n",
    "\n",
    "def get_col(s):\n",
    "    return int(s.split(\",\")[1].split(\"]\")[0])"
   ]
  },
  {
   "cell_type": "code",
   "execution_count": 10,
   "metadata": {},
   "outputs": [
    {
     "data": {
      "text/plain": [
       "[('A x B', [1, [1, 2, 3]]), ('A x B', [2, [4, 5, 6]])]"
      ]
     },
     "execution_count": 10,
     "metadata": {},
     "output_type": "execute_result"
    }
   ],
   "source": [
    "A2 = A_RDD.map(lambda kv: (\"A x B\",[get_row(kv[0]),kv[1]]))\n",
    "A2.collect()"
   ]
  },
  {
   "cell_type": "code",
   "execution_count": 11,
   "metadata": {},
   "outputs": [
    {
     "data": {
      "text/plain": [
       "[('A x B', [1, [7, 9, 11]]), ('A x B', [2, [8, 10, 12]])]"
      ]
     },
     "execution_count": 11,
     "metadata": {},
     "output_type": "execute_result"
    }
   ],
   "source": [
    "B2 = B_RDD.map(lambda kv: (\"A x B\",[get_col(kv[0]),kv[1]]))\n",
    "B2.collect()"
   ]
  },
  {
   "cell_type": "markdown",
   "metadata": {},
   "source": [
    "**Exercise 1:**\n",
    "Using what I have defined above (A_RDD, B_RDD, A2, B2), the Spark functions (join, map, collect), and the numpy function (np.dot or a loop of your own but why do that...), compute the matrix multiplication of A_RDD and B_RDD."
   ]
  },
  {
   "cell_type": "code",
   "execution_count": 12,
   "metadata": {},
   "outputs": [
    {
     "data": {
      "text/plain": [
       "[((1, 1), 58), ((1, 2), 64), ((2, 1), 139), ((2, 2), 154)]"
      ]
     },
     "execution_count": 12,
     "metadata": {},
     "output_type": "execute_result"
    }
   ],
   "source": [
    "def exercise_1(A_RDD,B_RDD):\n",
    "    result = None\n",
    "    A2 = A_RDD.map(lambda kv: (\"A x B\",[get_row(kv[0]),kv[1]]))\n",
    "    B2 = B_RDD.map(lambda kv: (\"A x B\",[get_col(kv[0]),kv[1]]))\n",
    "\n",
    "    # Your solution here\n",
    "    return result\n",
    "\n",
    "result = exercise_1(A_RDD,B_RDD)\n",
    "result"
   ]
  },
  {
   "cell_type": "markdown",
   "metadata": {},
   "source": [
    "In case you want to put it back in the same format"
   ]
  },
  {
   "cell_type": "code",
   "execution_count": 13,
   "metadata": {},
   "outputs": [
    {
     "data": {
      "text/plain": [
       "array([[ 58.,  64.],\n",
       "       [139., 154.]])"
      ]
     },
     "execution_count": 13,
     "metadata": {},
     "output_type": "execute_result"
    }
   ],
   "source": [
    "R_mat = np.zeros((2,2))\n",
    "for row_col,value in result:\n",
    "    row,col = row_col\n",
    "    R_mat[row-1,col-1] = value\n",
    "R_mat"
   ]
  },
  {
   "cell_type": "markdown",
   "metadata": {},
   "source": [
    "**Exercise 2:** Implement matrix multiplication using the following alternative format:\n",
    "\n",
    "'Matrix name', 'row number', 'column number', 'value'\n",
    "\n",
    "For this exercise, you cannot use loops or np.dot. It should be Spark centric using join, map, add, reduceByKey, and collect. To submit, you can put your answer into Lab4_helper.py, but do your development on databricks. "
   ]
  },
  {
   "cell_type": "code",
   "execution_count": 14,
   "metadata": {},
   "outputs": [],
   "source": [
    "A = [['A',1,1,1],\n",
    "     ['A',1,2,0],\n",
    "     ['A',2,1,3],\n",
    "     ['A',2,2,4],\n",
    "     ['A',3,1,0],\n",
    "     ['A',3,2,6],\n",
    "     ['A',4,1,7],\n",
    "     ['A',4,2,8]\n",
    "    ]\n",
    "A_RDD = sc.parallelize(A)\n",
    "\n",
    "B = [['B',1,1,7],\n",
    "     ['B',1,2,8],\n",
    "     ['B',1,3,9],\n",
    "     ['B',2,1,0],\n",
    "     ['B',2,2,11],\n",
    "     ['B',2,3,0]\n",
    "    ]\n",
    "B_RDD = sc.parallelize(B)"
   ]
  },
  {
   "cell_type": "code",
   "execution_count": 15,
   "metadata": {},
   "outputs": [
    {
     "data": {
      "text/plain": [
       "(array([[1., 0.],\n",
       "        [3., 4.],\n",
       "        [0., 6.],\n",
       "        [7., 8.]]),\n",
       " array([[ 7.,  8.,  9.],\n",
       "        [ 0., 11.,  0.]]))"
      ]
     },
     "execution_count": 15,
     "metadata": {},
     "output_type": "execute_result"
    }
   ],
   "source": [
    "A_mat = np.zeros((4,2))\n",
    "for name,row,col,val in A:\n",
    "    A_mat[row-1,col-1]=val\n",
    "A_mat\n",
    "\n",
    "B_mat = np.zeros((2,3))\n",
    "for name,row,col,val in B:\n",
    "    B_mat[row-1,col-1]=val\n",
    "A_mat,B_mat"
   ]
  },
  {
   "cell_type": "code",
   "execution_count": 16,
   "metadata": {},
   "outputs": [
    {
     "data": {
      "text/plain": [
       "array([[  7.,   8.,   9.],\n",
       "       [ 21.,  68.,  27.],\n",
       "       [  0.,  66.,   0.],\n",
       "       [ 49., 144.,  63.]])"
      ]
     },
     "execution_count": 16,
     "metadata": {},
     "output_type": "execute_result"
    }
   ],
   "source": [
    "np.dot(A_mat,B_mat)"
   ]
  },
  {
   "cell_type": "markdown",
   "metadata": {},
   "source": [
    "<img src=\"https://upload.wikimedia.org/wikipedia/commons/thumb/e/eb/Matrix_multiplication_diagram_2.svg/440px-Matrix_multiplication_diagram_2.svg.png\">"
   ]
  },
  {
   "cell_type": "code",
   "execution_count": 17,
   "metadata": {},
   "outputs": [
    {
     "data": {
      "text/plain": [
       "[((4, 2), 144),\n",
       " ((3, 1), 0),\n",
       " ((3, 3), 0),\n",
       " ((2, 3), 27),\n",
       " ((2, 2), 68),\n",
       " ((4, 3), 63),\n",
       " ((1, 2), 8),\n",
       " ((1, 3), 9),\n",
       " ((3, 2), 66),\n",
       " ((1, 1), 7),\n",
       " ((4, 1), 49),\n",
       " ((2, 1), 21)]"
      ]
     },
     "execution_count": 17,
     "metadata": {},
     "output_type": "execute_result"
    }
   ],
   "source": [
    "def exercise_2(A_RDD,B_RDD):\n",
    "    result = None\n",
    "    # Your solution here\n",
    "    return result\n",
    "\n",
    "result = exercise_2(A_RDD,B_RDD)\n",
    "result"
   ]
  },
  {
   "cell_type": "code",
   "execution_count": 18,
   "metadata": {},
   "outputs": [
    {
     "data": {
      "text/plain": [
       "array([[  7.,   8.,   9.],\n",
       "       [ 21.,  68.,  27.],\n",
       "       [  0.,  66.,   0.],\n",
       "       [ 49., 144.,  63.]])"
      ]
     },
     "execution_count": 18,
     "metadata": {},
     "output_type": "execute_result"
    }
   ],
   "source": [
    "result_mat = np.zeros((4,3))\n",
    "for row_col,val in result:\n",
    "    row,col = row_col\n",
    "    result_mat[row-1,col-1] = val\n",
    "result_mat"
   ]
  },
  {
   "cell_type": "markdown",
   "metadata": {},
   "source": [
    "**Exercise 3:** Implement matrix multiplication using the following alternative format that assumes missing rows have a value of 0 (i.e., sparse matrices):\n",
    "\n",
    "'Matrix name', 'row number', 'column number', 'value'\n",
    "\n",
    "For this exercise, you cannot use loops or np.dot. It should be Spark centric using join, map, add, reduceByKey, and collect. To submit, you can put your answer into Lab4_helper.py, but do your development on databricks. "
   ]
  },
  {
   "cell_type": "code",
   "execution_count": 19,
   "metadata": {},
   "outputs": [],
   "source": [
    "A = [['A',1,1,1],\n",
    "     ['A',2,1,3],\n",
    "     ['A',2,2,4],\n",
    "     ['A',3,2,6],\n",
    "     ['A',4,1,7],\n",
    "     ['A',4,2,8]\n",
    "    ]\n",
    "A_RDD = sc.parallelize(A)\n",
    "\n",
    "B = [['B',1,1,7],\n",
    "     ['B',1,2,8],\n",
    "     ['B',1,3,9],\n",
    "     ['B',2,2,11]\n",
    "    ]\n",
    "B_RDD = sc.parallelize(B)"
   ]
  },
  {
   "cell_type": "code",
   "execution_count": 20,
   "metadata": {},
   "outputs": [
    {
     "data": {
      "text/plain": [
       "[((4, 2), 144),\n",
       " ((2, 3), 27),\n",
       " ((2, 2), 68),\n",
       " ((4, 3), 63),\n",
       " ((1, 2), 8),\n",
       " ((1, 3), 9),\n",
       " ((3, 2), 66),\n",
       " ((1, 1), 7),\n",
       " ((4, 1), 49),\n",
       " ((2, 1), 21)]"
      ]
     },
     "execution_count": 20,
     "metadata": {},
     "output_type": "execute_result"
    }
   ],
   "source": [
    "def exercise_3(A_RDD,B_RDD):\n",
    "    result = None\n",
    "    # Your solution here\n",
    "    return result\n",
    "\n",
    "result = exercise_3(A_RDD,B_RDD)\n",
    "result"
   ]
  },
  {
   "cell_type": "code",
   "execution_count": 21,
   "metadata": {},
   "outputs": [
    {
     "data": {
      "text/plain": [
       "array([[  7.,   8.,   9.],\n",
       "       [ 21.,  68.,  27.],\n",
       "       [  0.,  66.,   0.],\n",
       "       [ 49., 144.,  63.]])"
      ]
     },
     "execution_count": 21,
     "metadata": {},
     "output_type": "execute_result"
    }
   ],
   "source": [
    "result_mat = np.zeros((4,3))\n",
    "for row_col,val in result:\n",
    "    row,col = row_col\n",
    "    result_mat[row-1,col-1] = val\n",
    "result_mat"
   ]
  },
  {
   "cell_type": "code",
   "execution_count": 22,
   "metadata": {},
   "outputs": [],
   "source": [
    "# Good job!"
   ]
  },
  {
   "cell_type": "code",
   "execution_count": null,
   "metadata": {},
   "outputs": [],
   "source": []
  }
 ],
 "metadata": {
  "celltoolbar": "Slideshow",
  "jupytext": {
   "encoding": "# -*- coding: utf-8 -*-",
   "formats": "ipynb,md,py"
  },
  "kernelspec": {
   "display_name": "Python 3",
   "language": "python",
   "name": "python3"
  },
  "language_info": {
   "codemirror_mode": {
    "name": "ipython",
    "version": 3
   },
   "file_extension": ".py",
   "mimetype": "text/x-python",
   "name": "python",
   "nbconvert_exporter": "python",
   "pygments_lexer": "ipython3",
   "version": "3.7.3"
  }
 },
 "nbformat": 4,
 "nbformat_minor": 4
}
