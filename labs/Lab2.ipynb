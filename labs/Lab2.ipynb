{
 "cells": [
  {
   "cell_type": "markdown",
   "metadata": {
    "slideshow": {
     "slide_type": "slide"
    }
   },
   "source": [
    "# Lab 2 - Creating an inverted index\n",
    "\n",
    "Overview of inverted indexes: <a href=\"https://en.wikipedia.org/wiki/Inverted_index\">https://en.wikipedia.org/wiki/Inverted_index</a>\n",
    "\n",
    "In this lab you will create an inverted index for the Gutenberg books. What I want you to do is create a single index that you can quickly return all the lines from all the books that contain a specific word. We will be using the basic and naive split functionality from the chapter (i.e., don't worry about punctuation, etc). Those are details that are not necessary for our exploration into distributed computing. We will use GNU Parallel to distributed our solution.\n",
    "\n",
    "This lab will focus on distributing the workload across multiple cores/processors. We will bring lab 1 and lab 2 together in lab 3 and use gluster and parallel together."
   ]
  },
  {
   "cell_type": "code",
   "execution_count": 1,
   "metadata": {
    "slideshow": {
     "slide_type": "skip"
    }
   },
   "outputs": [],
   "source": [
    "%load_ext autoreload\n",
    "%autoreload 2\n",
    "\n",
    "\n",
    "# Put all your solutions into Lab1_helper.py as this script which is autograded\n",
    "import Lab2_helper\n",
    "    \n",
    "import os\n",
    "from pathlib import Path\n",
    "home = str(Path.home())\n",
    "\n",
    "import pandas as pd"
   ]
  },
  {
   "cell_type": "markdown",
   "metadata": {
    "slideshow": {
     "slide_type": "subslide"
    }
   },
   "source": [
    "### Read in the book files for testing purposes"
   ]
  },
  {
   "cell_type": "code",
   "execution_count": 2,
   "metadata": {
    "slideshow": {
     "slide_type": "subslide"
    }
   },
   "outputs": [],
   "source": [
    "from os import path\n",
    "book_files = []\n",
    "for book in open(f\"{home}/csc-369-student/data/gutenberg/order.txt\").read().split(\"\\n\"):\n",
    "    if path.isfile(f'{home}/csc-369-student/data/gutenberg/{book}-0.txt'):\n",
    "        book_files.append(f'{home}/csc-369-student/data/gutenberg/{book}-0.txt')"
   ]
  },
  {
   "cell_type": "markdown",
   "metadata": {
    "slideshow": {
     "slide_type": "subslide"
    }
   },
   "source": [
    "**Exercise 1:** Create a function that returns a line that is read after seeking to ``pos`` in ``book``.\n",
    "\n",
    "Hint: You'll need to open a file object and the call seek. Calling readline will then work as expected."
   ]
  },
  {
   "cell_type": "code",
   "execution_count": 3,
   "metadata": {
    "slideshow": {
     "slide_type": "subslide"
    }
   },
   "outputs": [
    {
     "data": {
      "text/plain": [
       "'one anywhere in the United States and\\n'"
      ]
     },
     "metadata": {},
     "output_type": "display_data"
    }
   ],
   "source": [
    "line = Lab2_helper.read_line_at_pos(book_files[0],100)\n",
    "display(line)"
   ]
  },
  {
   "cell_type": "markdown",
   "metadata": {
    "slideshow": {
     "slide_type": "subslide"
    }
   },
   "source": [
    "**Notice that readline reads from the current position until the end of the line.** For the inverted index, you'll want to make sure to record only the positions that get you to the beginning of the line."
   ]
  },
  {
   "cell_type": "code",
   "execution_count": 4,
   "metadata": {
    "slideshow": {
     "slide_type": "subslide"
    }
   },
   "outputs": [
    {
     "data": {
      "text/plain": [
       "'f anyone anywhere in the United States and\\n'"
      ]
     },
     "metadata": {},
     "output_type": "display_data"
    }
   ],
   "source": [
    "display(Lab2_helper.read_line_at_pos(book_files[0],95))"
   ]
  },
  {
   "cell_type": "markdown",
   "metadata": {
    "slideshow": {
     "slide_type": "subslide"
    }
   },
   "source": [
    "**Exercise 2:** Create a function that returns a Python dictionary representing the inverted index. The dictionary should contain an offset that puts the file point at the beginning of the line. \n",
    "\n",
    "Hint: I used the ``tell`` function to return the correct offset."
   ]
  },
  {
   "cell_type": "code",
   "execution_count": 5,
   "metadata": {
    "slideshow": {
     "slide_type": "subslide"
    }
   },
   "outputs": [
    {
     "data": {
      "text/plain": [
       "[8386,\n",
       " 13175,\n",
       " 21912,\n",
       " 23602,\n",
       " 24101,\n",
       " 27549,\n",
       " 29850,\n",
       " 37134,\n",
       " 68890,\n",
       " 69086,\n",
       " 69771,\n",
       " 69845,\n",
       " 71403,\n",
       " 74893,\n",
       " 77502,\n",
       " 80991,\n",
       " 91732,\n",
       " 105218,\n",
       " 119592,\n",
       " 120796,\n",
       " 135001,\n",
       " 135217]"
      ]
     },
     "metadata": {},
     "output_type": "display_data"
    }
   ],
   "source": [
    "index = Lab2_helper.inverted_index(book_files[0])\n",
    "display(index['things'])"
   ]
  },
  {
   "cell_type": "markdown",
   "metadata": {
    "slideshow": {
     "slide_type": "subslide"
    }
   },
   "source": [
    "**Exercise 3:** Write a function that reads all of inverted indices into a single inverted index in the format shown below."
   ]
  },
  {
   "cell_type": "code",
   "execution_count": 6,
   "metadata": {
    "slideshow": {
     "slide_type": "subslide"
    }
   },
   "outputs": [
    {
     "data": {
      "text/plain": [
       "0                                         ﻿\n",
       "1                                       St.\n",
       "2                                Benedict’s\n",
       "3                                      Rule\n",
       "4                                       for\n",
       "                        ...                \n",
       "367190                            _there!_”\n",
       "367191                        dispossessed,\n",
       "367192                            209-0.txt\n",
       "367193                            209-0.zip\n",
       "367194    http://www.gutenberg.org/2/0/209/\n",
       "Length: 367195, dtype: object"
      ]
     },
     "metadata": {},
     "output_type": "display_data"
    }
   ],
   "source": [
    "index = Lab2_helper.merged_inverted_index(book_files)\n",
    "display(pd.Series(index.keys()))"
   ]
  },
  {
   "cell_type": "code",
   "execution_count": 7,
   "metadata": {},
   "outputs": [
    {
     "data": {
      "text/plain": [
       "/home/jupyter-pander14/csc-369-student/data/gutenberg/50040-0.txt    [8386, 13175, 21912, 23602, 24101, 27549, 2985...\n",
       "/home/jupyter-pander14/csc-369-student/data/gutenberg/1342-0.txt     [92468, 126100, 131655, 192987, 202986, 242634...\n",
       "/home/jupyter-pander14/csc-369-student/data/gutenberg/84-0.txt       [31274, 46864, 47203, 75424, 235797, 434766, 4...\n",
       "/home/jupyter-pander14/csc-369-student/data/gutenberg/6133-0.txt     [24351, 32691, 48489, 56570, 166077, 174650, 2...\n",
       "/home/jupyter-pander14/csc-369-student/data/gutenberg/46-0.txt       [8894, 47600, 63177, 71864, 90711, 111084, 121...\n",
       "                                                                                           ...                        \n",
       "/home/jupyter-pander14/csc-369-student/data/gutenberg/730-0.txt      [119678, 153359, 314959, 343502, 343696, 40217...\n",
       "/home/jupyter-pander14/csc-369-student/data/gutenberg/113-0.txt      [4685, 6737, 7345, 8278, 8348, 22839, 26064, 2...\n",
       "/home/jupyter-pander14/csc-369-student/data/gutenberg/1998-0.txt     [14491, 26962, 26962, 43455, 43455, 59571, 607...\n",
       "/home/jupyter-pander14/csc-369-student/data/gutenberg/53854-0.txt                                     [300260, 300399]\n",
       "/home/jupyter-pander14/csc-369-student/data/gutenberg/209-0.txt      [19437, 22381, 25360, 28171, 40602, 52952, 530...\n",
       "Length: 74, dtype: object"
      ]
     },
     "execution_count": 7,
     "metadata": {},
     "output_type": "execute_result"
    }
   ],
   "source": [
    "pd.Series(index['things'])"
   ]
  },
  {
   "cell_type": "code",
   "execution_count": 8,
   "metadata": {
    "slideshow": {
     "slide_type": "subslide"
    }
   },
   "outputs": [
    {
     "data": {
      "text/plain": [
       "/home/jupyter-pander14/csc-369-student/data/gutenberg/50040-0.txt    [8386, 13175, 21912, 23602, 24101, 27549, 2985...\n",
       "/home/jupyter-pander14/csc-369-student/data/gutenberg/1342-0.txt     [92468, 126100, 131655, 192987, 202986, 242634...\n",
       "/home/jupyter-pander14/csc-369-student/data/gutenberg/84-0.txt       [31274, 46864, 47203, 75424, 235797, 434766, 4...\n",
       "/home/jupyter-pander14/csc-369-student/data/gutenberg/6133-0.txt     [24351, 32691, 48489, 56570, 166077, 174650, 2...\n",
       "/home/jupyter-pander14/csc-369-student/data/gutenberg/46-0.txt       [8894, 47600, 63177, 71864, 90711, 111084, 121...\n",
       "                                                                                           ...                        \n",
       "/home/jupyter-pander14/csc-369-student/data/gutenberg/730-0.txt      [119678, 153359, 314959, 343502, 343696, 40217...\n",
       "/home/jupyter-pander14/csc-369-student/data/gutenberg/113-0.txt      [4685, 6737, 7345, 8278, 8348, 22839, 26064, 2...\n",
       "/home/jupyter-pander14/csc-369-student/data/gutenberg/1998-0.txt     [14491, 26962, 26962, 43455, 43455, 59571, 607...\n",
       "/home/jupyter-pander14/csc-369-student/data/gutenberg/53854-0.txt                                     [300260, 300399]\n",
       "/home/jupyter-pander14/csc-369-student/data/gutenberg/209-0.txt      [19437, 22381, 25360, 28171, 40602, 52952, 530...\n",
       "Length: 74, dtype: object"
      ]
     },
     "execution_count": 8,
     "metadata": {},
     "output_type": "execute_result"
    }
   ],
   "source": [
    "pd.Series(index['things'])"
   ]
  },
  {
   "cell_type": "markdown",
   "metadata": {
    "slideshow": {
     "slide_type": "subslide"
    }
   },
   "source": [
    "**Exercise 4:** Write a function that returns all of the lines from all of the books that contain a word. Duplicate lines are correct if the line has more than one occurence of the word. Format shown below."
   ]
  },
  {
   "cell_type": "code",
   "execution_count": 9,
   "metadata": {},
   "outputs": [
    {
     "data": {
      "text/plain": [
       "[('/home/jupyter-pander14/csc-369-student/data/gutenberg/50040-0.txt',\n",
       "  'we must always so serve Him with the good things He has given us, that\\n'),\n",
       " ('/home/jupyter-pander14/csc-369-student/data/gutenberg/50040-0.txt',\n",
       "  'still in the body and are able to fulfil all these things by the light\\n'),\n",
       " ('/home/jupyter-pander14/csc-369-student/data/gutenberg/50040-0.txt',\n",
       "  'justice, and all these things shall be given you besides.” And again:\\n'),\n",
       " ('/home/jupyter-pander14/csc-369-student/data/gutenberg/50040-0.txt',\n",
       "  'also it is his function to dispose all things with prudence and justice.\\n'),\n",
       " ('/home/jupyter-pander14/csc-369-student/data/gutenberg/50040-0.txt',\n",
       "  'the same time, the Abbot himself should do all things in the fear of God\\n'),\n",
       " ('/home/jupyter-pander14/csc-369-student/data/gutenberg/50040-0.txt',\n",
       "  '  60. To obey in all things the commands of the Abbot, even though he\\n'),\n",
       " ('/home/jupyter-pander14/csc-369-student/data/gutenberg/50040-0.txt',\n",
       "  'completed, the two things being speedily accomplished together in the\\n'),\n",
       " ('/home/jupyter-pander14/csc-369-student/data/gutenberg/50040-0.txt',\n",
       "  'future, “These things you did, and I held My peace.”\\n'),\n",
       " ('/home/jupyter-pander14/csc-369-student/data/gutenberg/50040-0.txt',\n",
       "  'squanderer of the monastery’s substance, but should do all things with\\n'),\n",
       " ('/home/jupyter-pander14/csc-369-student/data/gutenberg/50040-0.txt',\n",
       "  'Above all things let him have humility; and if he has nothing else to\\n')]"
      ]
     },
     "execution_count": 9,
     "metadata": {},
     "output_type": "execute_result"
    }
   ],
   "source": [
    "lines = Lab2_helper.get_lines(index,'things')\n",
    "lines[:10]"
   ]
  },
  {
   "cell_type": "markdown",
   "metadata": {
    "slideshow": {
     "slide_type": "subslide"
    }
   },
   "source": [
    "**Exercise 5:**\n",
    "\n",
    "Write a Python script that we can execute using Parallel in the following manner. \n",
    "\n",
    "I have hard coded an example script that will return the incorrect answer, but it will run. \n",
    "\n",
    "Your job is to remove the hard coded answer and insert the correct solution that will produce the correct answer. I have supplied the directory structure, and the parallel commands. You do need to write code that merges the groups back together."
   ]
  },
  {
   "cell_type": "markdown",
   "metadata": {},
   "source": [
    "**Here are the three groups.** Each directory has about 25 books. We could distribute these to different machines in a cluster, but you get the idea without that step."
   ]
  },
  {
   "cell_type": "code",
   "execution_count": 10,
   "metadata": {},
   "outputs": [
    {
     "name": "stdout",
     "output_type": "stream",
     "text": [
      "/home/jupyter-pander14/csc-369-student/data/gutenberg/group1\n",
      "/home/jupyter-pander14/csc-369-student/data/gutenberg/group2\n",
      "/home/jupyter-pander14/csc-369-student/data/gutenberg/group3\n"
     ]
    }
   ],
   "source": [
    "!ls -d {home}/csc-369-student/data/gutenberg/group*"
   ]
  },
  {
   "cell_type": "code",
   "execution_count": 11,
   "metadata": {},
   "outputs": [
    {
     "name": "stdout",
     "output_type": "stream",
     "text": [
      "1080-0.txt  1400-0.txt\t219-0.txt    43-0.txt\t  64244-0.txt\n",
      "11-0.txt    160-0.txt\t25344-0.txt  46-0.txt\t  74-0.txt\n",
      "1250-0.txt  1661-0.txt\t2542-0.txt   50040-0.txt  76-0.txt\n",
      "1260-0.txt  1952-0.txt\t25929-0.txt  6133-0.txt   84-0.txt\n",
      "1342-0.txt  205-0.txt\t2701-0.txt   64241-0.txt  98-0.txt\n"
     ]
    }
   ],
   "source": [
    "!ls {home}/csc-369-student/data/gutenberg/group1"
   ]
  },
  {
   "cell_type": "code",
   "execution_count": 12,
   "metadata": {},
   "outputs": [
    {
     "name": "stdout",
     "output_type": "stream",
     "text": [
      "1184-0.txt  147-0.txt\t2600-0.txt  4300-0.txt\t 64239-0.txt\n",
      "120-0.txt   158-0.txt\t2852-0.txt  45-0.txt\t 64242-0.txt\n",
      "1232-0.txt  16-0.txt\t3600-0.txt  57426-0.txt  64247-0.txt\n",
      "135-0.txt   2554-0.txt\t36-0.txt    58585-0.txt  768-0.txt\n",
      "140-0.txt   2591-0.txt\t408-0.txt   60479-0.txt  996-0.txt\n"
     ]
    }
   ],
   "source": [
    "!ls {home}/csc-369-student/data/gutenberg/group2"
   ]
  },
  {
   "cell_type": "code",
   "execution_count": 13,
   "metadata": {},
   "outputs": [
    {
     "name": "stdout",
     "output_type": "stream",
     "text": [
      "113-0.txt   203-0.txt  28054-0.txt  41-0.txt\t 53854-0.txt  730-0.txt\n",
      "1399-0.txt  209-0.txt  2814-0.txt   42108-0.txt  6130-0.txt   766-0.txt\n",
      "1727-0.txt  215-0.txt  30254-0.txt  4517-0.txt\t 64238-0.txt  863-0.txt\n",
      "1998-0.txt  244-0.txt  35-0.txt     521-0.txt\t 64246-0.txt  902-0.txt\n"
     ]
    }
   ],
   "source": [
    "!ls {home}/csc-369-student/data/gutenberg/group3"
   ]
  },
  {
   "cell_type": "markdown",
   "metadata": {},
   "source": [
    "**Running a single directory:** You can run a single directory with the following command and store the results to a file."
   ]
  },
  {
   "cell_type": "code",
   "execution_count": 14,
   "metadata": {
    "slideshow": {
     "slide_type": "subslide"
    }
   },
   "outputs": [],
   "source": [
    "!python Lab2_exercise5.py {home}/csc-369-student/data/gutenberg/group1 > group1.json"
   ]
  },
  {
   "cell_type": "markdown",
   "metadata": {},
   "source": [
    "We can easily read these back into Python by relying on the JSON format. While more strict than Python dictionaries. They are very similar for our purposes (<a href=\"https://www.json.org/json-en.html\">https://www.json.org/json-en.html</a>). "
   ]
  },
  {
   "cell_type": "code",
   "execution_count": 15,
   "metadata": {},
   "outputs": [
    {
     "data": {
      "text/plain": [
       "/home/jupyter-pander14/csc-369-student/data/gutenberg/group1/6133-0.txt     [24351, 32691, 48489, 56570, 166077, 174650, 2...\n",
       "/home/jupyter-pander14/csc-369-student/data/gutenberg/group1/46-0.txt       [8894, 47600, 63177, 71864, 90711, 111084, 121...\n",
       "/home/jupyter-pander14/csc-369-student/data/gutenberg/group1/219-0.txt      [15626, 21421, 34891, 35328, 53751, 58248, 750...\n",
       "/home/jupyter-pander14/csc-369-student/data/gutenberg/group1/76-0.txt       [9757, 11753, 11824, 25522, 26420, 27504, 5213...\n",
       "/home/jupyter-pander14/csc-369-student/data/gutenberg/group1/25344-0.txt    [75568, 85281, 148509, 218956, 222761, 254728,...\n",
       "/home/jupyter-pander14/csc-369-student/data/gutenberg/group1/98-0.txt       [3780, 21317, 60608, 60819, 74433, 188123, 211...\n",
       "/home/jupyter-pander14/csc-369-student/data/gutenberg/group1/50040-0.txt    [8386, 13175, 21912, 23602, 24101, 27549, 2985...\n",
       "/home/jupyter-pander14/csc-369-student/data/gutenberg/group1/205-0.txt      [5450, 13577, 13844, 24649, 53422, 89572, 8957...\n",
       "/home/jupyter-pander14/csc-369-student/data/gutenberg/group1/74-0.txt       [30619, 55057, 63884, 68036, 98195, 101207, 11...\n",
       "/home/jupyter-pander14/csc-369-student/data/gutenberg/group1/43-0.txt       [21022, 30093, 83570, 86664, 86805, 109451, 12...\n",
       "/home/jupyter-pander14/csc-369-student/data/gutenberg/group1/1080-0.txt                                 [19073, 23747, 23886]\n",
       "/home/jupyter-pander14/csc-369-student/data/gutenberg/group1/1661-0.txt     [1902, 29536, 52499, 102067, 102209, 109612, 1...\n",
       "/home/jupyter-pander14/csc-369-student/data/gutenberg/group1/1342-0.txt     [92468, 126100, 131655, 192987, 202986, 242634...\n",
       "/home/jupyter-pander14/csc-369-student/data/gutenberg/group1/11-0.txt       [4563, 8739, 8810, 13209, 16257, 17054, 19698,...\n",
       "/home/jupyter-pander14/csc-369-student/data/gutenberg/group1/1952-0.txt     [1566, 5216, 10572, 10834, 17180, 24364, 29655...\n",
       "/home/jupyter-pander14/csc-369-student/data/gutenberg/group1/1250-0.txt     [5998, 7227, 9629, 11572, 17679, 18605, 19038,...\n",
       "/home/jupyter-pander14/csc-369-student/data/gutenberg/group1/25929-0.txt    [3037, 9858, 11489, 11564, 19551, 19627, 22198...\n",
       "/home/jupyter-pander14/csc-369-student/data/gutenberg/group1/2542-0.txt     [10335, 15938, 39130, 39387, 51447, 52061, 665...\n",
       "/home/jupyter-pander14/csc-369-student/data/gutenberg/group1/1260-0.txt     [2901, 38345, 71780, 122727, 123079, 164326, 1...\n",
       "/home/jupyter-pander14/csc-369-student/data/gutenberg/group1/2701-0.txt     [26768, 41137, 41277, 70925, 98466, 99096, 106...\n",
       "/home/jupyter-pander14/csc-369-student/data/gutenberg/group1/64241-0.txt    [4375, 16878, 20427, 22176, 22250, 47966, 5369...\n",
       "/home/jupyter-pander14/csc-369-student/data/gutenberg/group1/64244-0.txt                  [17835, 22880, 27074, 49609, 49748]\n",
       "/home/jupyter-pander14/csc-369-student/data/gutenberg/group1/1400-0.txt     [3402, 11213, 60123, 63471, 127617, 128522, 17...\n",
       "/home/jupyter-pander14/csc-369-student/data/gutenberg/group1/160-0.txt      [8165, 11355, 16158, 28291, 35219, 49470, 5422...\n",
       "/home/jupyter-pander14/csc-369-student/data/gutenberg/group1/84-0.txt       [31274, 46864, 47203, 75424, 235797, 434766, 4...\n",
       "dtype: object"
      ]
     },
     "execution_count": 15,
     "metadata": {},
     "output_type": "execute_result"
    }
   ],
   "source": [
    "import json\n",
    "group1_results = json.load(open(\"group1.json\"))\n",
    "pd.Series(group1_results['things'])"
   ]
  },
  {
   "cell_type": "markdown",
   "metadata": {},
   "source": [
    "**You can run the files in parallel using**"
   ]
  },
  {
   "cell_type": "code",
   "execution_count": 16,
   "metadata": {},
   "outputs": [
    {
     "name": "stdout",
     "output_type": "stream",
     "text": [
      "1080-0.txt  1400-0.txt\t219-0.txt    43-0.txt\t  64244-0.txt\n",
      "11-0.txt    160-0.txt\t25344-0.txt  46-0.txt\t  74-0.txt\n",
      "1250-0.txt  1661-0.txt\t2542-0.txt   50040-0.txt  76-0.txt\n",
      "1260-0.txt  1952-0.txt\t25929-0.txt  6133-0.txt   84-0.txt\n",
      "1342-0.txt  205-0.txt\t2701-0.txt   64241-0.txt  98-0.txt\n"
     ]
    }
   ],
   "source": [
    "!ls {home}/csc-369-student/data/gutenberg/group1"
   ]
  },
  {
   "cell_type": "code",
   "execution_count": 17,
   "metadata": {},
   "outputs": [
    {
     "name": "stdout",
     "output_type": "stream",
     "text": [
      "Academic tradition requires you to cite works you base your article on.\n",
      "When using programs that use GNU Parallel to process data for publication\n",
      "please cite:\n",
      "\n",
      "  O. Tange (2011): GNU Parallel - The Command-Line Power Tool,\n",
      "  ;login: The USENIX Magazine, February 2011:42-47.\n",
      "\n",
      "This helps funding further development; AND IT WON'T COST YOU A CENT.\n",
      "If you pay 10000 EUR you should feel free to use GNU Parallel without citing.\n",
      "\n",
      "To silence this citation notice: run 'parallel --citation'.\n",
      "\n"
     ]
    }
   ],
   "source": [
    "# !parallel \"python Lab2_exercise5.py\" ... # Come and see me to get the ... You'll have to try to come up with it first"
   ]
  },
  {
   "cell_type": "code",
   "execution_count": 18,
   "metadata": {},
   "outputs": [],
   "source": [
    "index = Lab2_helper.merge()\n",
    "# You've done it!"
   ]
  },
  {
   "cell_type": "code",
   "execution_count": 19,
   "metadata": {
    "slideshow": {
     "slide_type": "subslide"
    }
   },
   "outputs": [
    {
     "data": {
      "text/plain": [
       "/home/jupyter-pander14/csc-369-student/data/gutenberg/group1/6133-0.txt     [24351, 32691, 48489, 56570, 166077, 174650, 2...\n",
       "/home/jupyter-pander14/csc-369-student/data/gutenberg/group1/46-0.txt       [8894, 47600, 63177, 71864, 90711, 111084, 121...\n",
       "/home/jupyter-pander14/csc-369-student/data/gutenberg/group1/219-0.txt      [15626, 21421, 34891, 35328, 53751, 58248, 750...\n",
       "/home/jupyter-pander14/csc-369-student/data/gutenberg/group1/76-0.txt       [9757, 11753, 11824, 25522, 26420, 27504, 5213...\n",
       "/home/jupyter-pander14/csc-369-student/data/gutenberg/group1/25344-0.txt    [75568, 85281, 148509, 218956, 222761, 254728,...\n",
       "                                                                                                  ...                        \n",
       "/home/jupyter-pander14/csc-369-student/data/gutenberg/group3/64238-0.txt    [4202, 8980, 12824, 21679, 25943, 30211, 37908...\n",
       "/home/jupyter-pander14/csc-369-student/data/gutenberg/group3/35-0.txt       [2658, 20215, 53533, 58539, 60512, 62724, 6272...\n",
       "/home/jupyter-pander14/csc-369-student/data/gutenberg/group3/209-0.txt      [19437, 22381, 25360, 28171, 40602, 52952, 530...\n",
       "/home/jupyter-pander14/csc-369-student/data/gutenberg/group3/215-0.txt      [2288, 4229, 22641, 37814, 38605, 58366, 60156...\n",
       "/home/jupyter-pander14/csc-369-student/data/gutenberg/group3/521-0.txt      [4228, 7499, 32745, 40176, 66539, 75098, 76209...\n",
       "Length: 74, dtype: object"
      ]
     },
     "execution_count": 19,
     "metadata": {},
     "output_type": "execute_result"
    }
   ],
   "source": [
    "pd.Series(index['things'])"
   ]
  },
  {
   "cell_type": "markdown",
   "metadata": {},
   "source": [
    "This solution should match your solution above that was single thread, but now you are a rockstar distributed computing wizard who could process thousands of books on a cluster with nothing other than simple Python and GNU parallel."
   ]
  },
  {
   "cell_type": "code",
   "execution_count": 20,
   "metadata": {
    "lines_to_next_cell": 0,
    "slideshow": {
     "slide_type": "skip"
    }
   },
   "outputs": [
    {
     "name": "stdout",
     "output_type": "stream",
     "text": [
      "rm: cannot remove '*.json': No such file or directory\n"
     ]
    }
   ],
   "source": [
    "# Don't forget to push!"
   ]
  },
  {
   "cell_type": "code",
   "execution_count": 21,
   "metadata": {},
   "outputs": [
    {
     "name": "stdout",
     "output_type": "stream",
     "text": [
      "rm: cannot remove '*.json': No such file or directory\n"
     ]
    }
   ],
   "source": [
    "!rm *.json"
   ]
  },
  {
   "cell_type": "code",
   "execution_count": null,
   "metadata": {},
   "outputs": [],
   "source": []
  }
 ],
 "metadata": {
  "celltoolbar": "Slideshow",
  "jupytext": {
   "encoding": "# -*- coding: utf-8 -*-",
   "formats": "ipynb,md,py"
  },
  "kernelspec": {
   "display_name": "Python 3",
   "language": "python",
   "name": "python3"
  },
  "language_info": {
   "codemirror_mode": {
    "name": "ipython",
    "version": 3
   },
   "file_extension": ".py",
   "mimetype": "text/x-python",
   "name": "python",
   "nbconvert_exporter": "python",
   "pygments_lexer": "ipython3",
   "version": "3.7.3"
  }
 },
 "nbformat": 4,
 "nbformat_minor": 4
}
